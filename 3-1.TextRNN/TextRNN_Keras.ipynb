{
 "cells": [
  {
   "cell_type": "code",
   "execution_count": 42,
   "metadata": {},
   "outputs": [
    {
     "data": {
      "text/plain": [
       "('1.9.0', '2.1.6-tf')"
      ]
     },
     "execution_count": 42,
     "metadata": {},
     "output_type": "execute_result"
    }
   ],
   "source": [
    "import tensorflow as tf\n",
    "from tensorflow import keras as K\n",
    "from tensorflow.keras.models import Sequential\n",
    "from tensorflow.keras.layers import Input,Dense,Flatten,Softmax,Embedding,Reshape,SimpleRNN,GRU,LSTM\n",
    "import numpy as np\n",
    "\n",
    "tf.__version__, K.__version__"
   ]
  },
  {
   "cell_type": "code",
   "execution_count": 19,
   "metadata": {},
   "outputs": [],
   "source": [
    "tf.reset_default_graph()\n",
    "sentences = ['i like dog', 'i love coffee', 'i hate milk']\n",
    "\n",
    "word_list = ' '.join(sentences).split()\n",
    "word_list = list(set(word_list))\n",
    "word_dict = {w:i for i,w in enumerate(word_list)}\n",
    "number_dict = {i:w for i,w in enumerate(word_list)}\n",
    "n_class = len(word_dict)\n",
    "\n",
    "def make_batch(sentences):\n",
    "    input_batch = []\n",
    "    target_batch = []\n",
    "    \n",
    "    for sen in sentences:\n",
    "        word = sen.split()\n",
    "        input_ = [word_dict[n] for n in word[:-1]]\n",
    "        target = word_dict[word[-1]]\n",
    "        \n",
    "        input_batch.append(np.eye(n_class)[input_])\n",
    "        # one-hot label\n",
    "        target_batch.append(np.eye(n_class)[target])\n",
    "        # target_batch.append(target)\n",
    "    \n",
    "    return np.array(input_batch), np.array(target_batch)\n",
    "\n",
    "input_batch, target_batch = make_batch(sentences)"
   ]
  },
  {
   "cell_type": "markdown",
   "metadata": {},
   "source": [
    "Train the RNN model:  \n"
   ]
  },
  {
   "cell_type": "code",
   "execution_count": 47,
   "metadata": {},
   "outputs": [],
   "source": [
    "# TextRNN Parameter\n",
    "n_step = 2 # number of cells (=number of Step)\n",
    "n_hidden = 5 # number of hidden units in on cell\n",
    "\n",
    "model = Sequential()\n",
    "model.add(LSTM(n_hidden))# output shape [batch_size, n_step, n_hidden])\n",
    "model.add(Dense(n_class,activation='softmax'))\n",
    "\n",
    "model.compile(optimizer='adam', loss='categorical_crossentropy', metrics=['acc'])"
   ]
  },
  {
   "cell_type": "code",
   "execution_count": 48,
   "metadata": {},
   "outputs": [
    {
     "name": "stdout",
     "output_type": "stream",
     "text": [
      "Epoch 1/100\n",
      "3/3 [==============================] - 1s 297ms/step - loss: 1.9452 - acc: 0.0000e+00\n",
      "Epoch 2/100\n",
      "3/3 [==============================] - 0s 1ms/step - loss: 1.9421 - acc: 0.0000e+00\n",
      "Epoch 3/100\n",
      "3/3 [==============================] - 0s 2ms/step - loss: 1.9391 - acc: 0.0000e+00\n",
      "Epoch 4/100\n",
      "3/3 [==============================] - 0s 1ms/step - loss: 1.9360 - acc: 0.0000e+00\n",
      "Epoch 5/100\n",
      "3/3 [==============================] - 0s 1ms/step - loss: 1.9330 - acc: 0.0000e+00\n",
      "Epoch 6/100\n",
      "3/3 [==============================] - 0s 1ms/step - loss: 1.9299 - acc: 0.0000e+00\n",
      "Epoch 7/100\n",
      "3/3 [==============================] - 0s 2ms/step - loss: 1.9269 - acc: 0.3333\n",
      "Epoch 8/100\n",
      "3/3 [==============================] - 0s 1ms/step - loss: 1.9238 - acc: 0.3333\n",
      "Epoch 9/100\n",
      "3/3 [==============================] - 0s 1ms/step - loss: 1.9208 - acc: 0.3333\n",
      "Epoch 10/100\n",
      "3/3 [==============================] - 0s 2ms/step - loss: 1.9177 - acc: 0.3333\n",
      "Epoch 11/100\n",
      "3/3 [==============================] - 0s 1ms/step - loss: 1.9147 - acc: 0.3333\n",
      "Epoch 12/100\n",
      "3/3 [==============================] - 0s 2ms/step - loss: 1.9117 - acc: 0.3333\n",
      "Epoch 13/100\n",
      "3/3 [==============================] - 0s 2ms/step - loss: 1.9086 - acc: 0.3333\n",
      "Epoch 14/100\n",
      "3/3 [==============================] - 0s 1ms/step - loss: 1.9056 - acc: 0.3333\n",
      "Epoch 15/100\n",
      "3/3 [==============================] - 0s 1ms/step - loss: 1.9025 - acc: 0.3333\n",
      "Epoch 16/100\n",
      "3/3 [==============================] - 0s 2ms/step - loss: 1.8995 - acc: 0.3333\n",
      "Epoch 17/100\n",
      "3/3 [==============================] - 0s 1ms/step - loss: 1.8964 - acc: 0.3333\n",
      "Epoch 18/100\n",
      "3/3 [==============================] - 0s 2ms/step - loss: 1.8934 - acc: 0.3333\n",
      "Epoch 19/100\n",
      "3/3 [==============================] - 0s 2ms/step - loss: 1.8903 - acc: 0.3333\n",
      "Epoch 20/100\n",
      "3/3 [==============================] - 0s 1ms/step - loss: 1.8873 - acc: 0.3333\n",
      "Epoch 21/100\n",
      "3/3 [==============================] - 0s 2ms/step - loss: 1.8842 - acc: 0.3333\n",
      "Epoch 22/100\n",
      "3/3 [==============================] - 0s 1ms/step - loss: 1.8812 - acc: 0.3333\n",
      "Epoch 23/100\n",
      "3/3 [==============================] - 0s 1ms/step - loss: 1.8782 - acc: 0.3333\n",
      "Epoch 24/100\n",
      "3/3 [==============================] - 0s 2ms/step - loss: 1.8751 - acc: 0.3333\n",
      "Epoch 25/100\n",
      "3/3 [==============================] - 0s 995us/step - loss: 1.8721 - acc: 0.3333\n",
      "Epoch 26/100\n",
      "3/3 [==============================] - 0s 1ms/step - loss: 1.8690 - acc: 0.3333\n",
      "Epoch 27/100\n",
      "3/3 [==============================] - 0s 2ms/step - loss: 1.8660 - acc: 0.3333\n",
      "Epoch 28/100\n",
      "3/3 [==============================] - 0s 993us/step - loss: 1.8629 - acc: 0.3333\n",
      "Epoch 29/100\n",
      "3/3 [==============================] - 0s 1ms/step - loss: 1.8599 - acc: 0.3333\n",
      "Epoch 30/100\n",
      "3/3 [==============================] - 0s 1ms/step - loss: 1.8568 - acc: 0.3333\n",
      "Epoch 31/100\n",
      "3/3 [==============================] - 0s 2ms/step - loss: 1.8538 - acc: 0.3333\n",
      "Epoch 32/100\n",
      "3/3 [==============================] - 0s 941us/step - loss: 1.8507 - acc: 0.3333\n",
      "Epoch 33/100\n",
      "3/3 [==============================] - 0s 1ms/step - loss: 1.8477 - acc: 0.3333\n",
      "Epoch 34/100\n",
      "3/3 [==============================] - 0s 2ms/step - loss: 1.8446 - acc: 0.3333\n",
      "Epoch 35/100\n",
      "3/3 [==============================] - 0s 1ms/step - loss: 1.8416 - acc: 0.3333\n",
      "Epoch 36/100\n",
      "3/3 [==============================] - 0s 929us/step - loss: 1.8385 - acc: 0.3333\n",
      "Epoch 37/100\n",
      "3/3 [==============================] - 0s 1ms/step - loss: 1.8355 - acc: 0.3333\n",
      "Epoch 38/100\n",
      "3/3 [==============================] - 0s 1ms/step - loss: 1.8324 - acc: 0.3333\n",
      "Epoch 39/100\n",
      "3/3 [==============================] - 0s 1ms/step - loss: 1.8294 - acc: 0.3333\n",
      "Epoch 40/100\n",
      "3/3 [==============================] - 0s 1ms/step - loss: 1.8263 - acc: 0.3333\n",
      "Epoch 41/100\n",
      "3/3 [==============================] - 0s 2ms/step - loss: 1.8233 - acc: 0.3333\n",
      "Epoch 42/100\n",
      "3/3 [==============================] - 0s 1ms/step - loss: 1.8202 - acc: 0.3333\n",
      "Epoch 43/100\n",
      "3/3 [==============================] - 0s 948us/step - loss: 1.8171 - acc: 0.3333\n",
      "Epoch 44/100\n",
      "3/3 [==============================] - 0s 1ms/step - loss: 1.8141 - acc: 0.3333\n",
      "Epoch 45/100\n",
      "3/3 [==============================] - 0s 1ms/step - loss: 1.8110 - acc: 0.3333\n",
      "Epoch 46/100\n",
      "3/3 [==============================] - 0s 1ms/step - loss: 1.8079 - acc: 0.3333\n",
      "Epoch 47/100\n",
      "3/3 [==============================] - 0s 2ms/step - loss: 1.8048 - acc: 0.3333\n",
      "Epoch 48/100\n",
      "3/3 [==============================] - 0s 1ms/step - loss: 1.8017 - acc: 0.3333\n",
      "Epoch 49/100\n",
      "3/3 [==============================] - 0s 938us/step - loss: 1.7987 - acc: 0.3333\n",
      "Epoch 50/100\n",
      "3/3 [==============================] - 0s 954us/step - loss: 1.7956 - acc: 0.3333\n",
      "Epoch 51/100\n",
      "3/3 [==============================] - 0s 3ms/step - loss: 1.7925 - acc: 0.3333\n",
      "Epoch 52/100\n",
      "3/3 [==============================] - 0s 1ms/step - loss: 1.7894 - acc: 0.3333\n",
      "Epoch 53/100\n",
      "3/3 [==============================] - 0s 1ms/step - loss: 1.7863 - acc: 0.3333\n",
      "Epoch 54/100\n",
      "3/3 [==============================] - 0s 2ms/step - loss: 1.7832 - acc: 0.3333\n",
      "Epoch 55/100\n",
      "3/3 [==============================] - 0s 1ms/step - loss: 1.7801 - acc: 0.3333\n",
      "Epoch 56/100\n",
      "3/3 [==============================] - 0s 2ms/step - loss: 1.7770 - acc: 0.3333\n",
      "Epoch 57/100\n",
      "3/3 [==============================] - 0s 1ms/step - loss: 1.7739 - acc: 0.3333\n",
      "Epoch 58/100\n",
      "3/3 [==============================] - 0s 995us/step - loss: 1.7708 - acc: 0.3333\n",
      "Epoch 59/100\n",
      "3/3 [==============================] - 0s 1ms/step - loss: 1.7677 - acc: 0.3333\n",
      "Epoch 60/100\n",
      "3/3 [==============================] - 0s 2ms/step - loss: 1.7646 - acc: 0.3333\n",
      "Epoch 61/100\n",
      "3/3 [==============================] - 0s 1ms/step - loss: 1.7615 - acc: 0.3333\n",
      "Epoch 62/100\n",
      "3/3 [==============================] - 0s 2ms/step - loss: 1.7583 - acc: 0.3333\n",
      "Epoch 63/100\n",
      "3/3 [==============================] - 0s 2ms/step - loss: 1.7552 - acc: 0.3333\n",
      "Epoch 64/100\n",
      "3/3 [==============================] - 0s 1ms/step - loss: 1.7521 - acc: 0.3333\n",
      "Epoch 65/100\n",
      "3/3 [==============================] - 0s 1ms/step - loss: 1.7490 - acc: 0.3333\n",
      "Epoch 66/100\n",
      "3/3 [==============================] - 0s 1ms/step - loss: 1.7458 - acc: 0.3333\n",
      "Epoch 67/100\n",
      "3/3 [==============================] - 0s 959us/step - loss: 1.7427 - acc: 0.3333\n",
      "Epoch 68/100\n",
      "3/3 [==============================] - 0s 934us/step - loss: 1.7396 - acc: 0.3333\n",
      "Epoch 69/100\n",
      "3/3 [==============================] - 0s 2ms/step - loss: 1.7364 - acc: 0.3333\n",
      "Epoch 70/100\n",
      "3/3 [==============================] - 0s 2ms/step - loss: 1.7333 - acc: 0.3333\n",
      "Epoch 71/100\n",
      "3/3 [==============================] - 0s 1ms/step - loss: 1.7301 - acc: 0.3333\n",
      "Epoch 72/100\n",
      "3/3 [==============================] - 0s 2ms/step - loss: 1.7270 - acc: 0.3333\n",
      "Epoch 73/100\n",
      "3/3 [==============================] - 0s 1ms/step - loss: 1.7238 - acc: 0.3333\n",
      "Epoch 74/100\n",
      "3/3 [==============================] - 0s 1ms/step - loss: 1.7206 - acc: 0.3333\n",
      "Epoch 75/100\n",
      "3/3 [==============================] - 0s 2ms/step - loss: 1.7175 - acc: 0.3333\n",
      "Epoch 76/100\n",
      "3/3 [==============================] - 0s 1ms/step - loss: 1.7143 - acc: 0.3333\n",
      "Epoch 77/100\n",
      "3/3 [==============================] - 0s 1ms/step - loss: 1.7111 - acc: 0.3333\n",
      "Epoch 78/100\n",
      "3/3 [==============================] - 0s 3ms/step - loss: 1.7079 - acc: 0.3333\n",
      "Epoch 79/100\n",
      "3/3 [==============================] - 0s 1ms/step - loss: 1.7047 - acc: 0.3333\n",
      "Epoch 80/100\n",
      "3/3 [==============================] - 0s 954us/step - loss: 1.7015 - acc: 0.3333\n",
      "Epoch 81/100\n",
      "3/3 [==============================] - 0s 1ms/step - loss: 1.6984 - acc: 0.3333\n",
      "Epoch 82/100\n",
      "3/3 [==============================] - 0s 2ms/step - loss: 1.6952 - acc: 0.3333\n",
      "Epoch 83/100\n",
      "3/3 [==============================] - 0s 1ms/step - loss: 1.6919 - acc: 0.3333\n",
      "Epoch 84/100\n",
      "3/3 [==============================] - 0s 2ms/step - loss: 1.6887 - acc: 0.3333\n",
      "Epoch 85/100\n",
      "3/3 [==============================] - 0s 1ms/step - loss: 1.6855 - acc: 0.3333\n",
      "Epoch 86/100\n",
      "3/3 [==============================] - 0s 979us/step - loss: 1.6823 - acc: 0.3333\n",
      "Epoch 87/100\n",
      "3/3 [==============================] - 0s 2ms/step - loss: 1.6791 - acc: 0.3333\n",
      "Epoch 88/100\n",
      "3/3 [==============================] - 0s 1ms/step - loss: 1.6759 - acc: 0.3333\n"
     ]
    },
    {
     "name": "stdout",
     "output_type": "stream",
     "text": [
      "Epoch 89/100\n",
      "3/3 [==============================] - 0s 891us/step - loss: 1.6726 - acc: 0.3333\n",
      "Epoch 90/100\n",
      "3/3 [==============================] - 0s 2ms/step - loss: 1.6694 - acc: 0.3333\n",
      "Epoch 91/100\n",
      "3/3 [==============================] - 0s 1ms/step - loss: 1.6662 - acc: 0.3333\n",
      "Epoch 92/100\n",
      "3/3 [==============================] - 0s 1ms/step - loss: 1.6629 - acc: 0.3333\n",
      "Epoch 93/100\n",
      "3/3 [==============================] - 0s 2ms/step - loss: 1.6597 - acc: 0.3333\n",
      "Epoch 94/100\n",
      "3/3 [==============================] - 0s 1ms/step - loss: 1.6564 - acc: 0.3333\n",
      "Epoch 95/100\n",
      "3/3 [==============================] - 0s 969us/step - loss: 1.6532 - acc: 0.3333\n",
      "Epoch 96/100\n",
      "3/3 [==============================] - 0s 3ms/step - loss: 1.6499 - acc: 0.3333\n",
      "Epoch 97/100\n",
      "3/3 [==============================] - 0s 1ms/step - loss: 1.6467 - acc: 0.3333\n",
      "Epoch 98/100\n",
      "3/3 [==============================] - 0s 1ms/step - loss: 1.6434 - acc: 0.3333\n",
      "Epoch 99/100\n",
      "3/3 [==============================] - 0s 1ms/step - loss: 1.6401 - acc: 0.3333\n",
      "Epoch 100/100\n",
      "3/3 [==============================] - 0s 1ms/step - loss: 1.6369 - acc: 0.3333\n"
     ]
    },
    {
     "data": {
      "text/plain": [
       "<tensorflow.python.keras.callbacks.History at 0x7fc666d337b8>"
      ]
     },
     "execution_count": 48,
     "metadata": {},
     "output_type": "execute_result"
    }
   ],
   "source": [
    "model.fit(input_batch, target_batch, epochs=100)"
   ]
  },
  {
   "cell_type": "code",
   "execution_count": 49,
   "metadata": {},
   "outputs": [
    {
     "name": "stdout",
     "output_type": "stream",
     "text": [
      "[['i', 'like'], ['i', 'love'], ['i', 'hate']] -> ['dog', 'dog', 'dog']\n"
     ]
    }
   ],
   "source": [
    "input_ = np.array([sen.split()[:2] for sen in sentences])\n",
    "\n",
    "predict = model.predict(input_batch)\n",
    "predict = np.argmax(predict, axis=1)\n",
    "print([sen.split()[:2] for sen in sentences], '->', [number_dict[n] for n in predict])"
   ]
  },
  {
   "cell_type": "markdown",
   "metadata": {},
   "source": [
    "- 输入维度(3, 2, 7) `# [batch_size, sequence_lens, embedding_size]`没有使用嵌入层，所以`embedding_size` = `vocab_size`  \n",
    "- RNN`h_t`向量维度为`n_hidden = 5`，所以输出维度为(3, 5) `# [batch_size, n_hidden]`  \n",
    "    (根据`h_t = tanh(W_x X_t + W_h h_{t-1} + b)`得参数为(7+5)*5+5= 65)  \n",
    "- 将RNN输出Reshape成维度(3, -1) `# [batch_size, -1]`  \n",
    "- Dence层输出维度为(3, 7) `# [batch_size, vocab_size]`  \n",
    "\n",
    "**RNN/GRU/LSTM 参数量计算**:  \n",
    "SimpleRNN:$m\\times n + n\\times n + n = (m+n)\\times n + n = (m+n+1)*n$  \n",
    "GRU: 多了两个门，所以是$3\\teims$"
   ]
  },
  {
   "cell_type": "code",
   "execution_count": 50,
   "metadata": {},
   "outputs": [
    {
     "name": "stdout",
     "output_type": "stream",
     "text": [
      "_________________________________________________________________\n",
      "Layer (type)                 Output Shape              Param #   \n",
      "=================================================================\n",
      "lstm (LSTM)                  (None, 5)                 260       \n",
      "_________________________________________________________________\n",
      "dense_3 (Dense)              (None, 7)                 42        \n",
      "=================================================================\n",
      "Total params: 302\n",
      "Trainable params: 302\n",
      "Non-trainable params: 0\n",
      "_________________________________________________________________\n"
     ]
    }
   ],
   "source": [
    "model.summary()"
   ]
  }
 ],
 "metadata": {
  "kernelspec": {
   "display_name": "Python [conda env:ml]",
   "language": "python",
   "name": "conda-env-ml-py"
  },
  "language_info": {
   "codemirror_mode": {
    "name": "ipython",
    "version": 3
   },
   "file_extension": ".py",
   "mimetype": "text/x-python",
   "name": "python",
   "nbconvert_exporter": "python",
   "pygments_lexer": "ipython3",
   "version": "3.6.5"
  }
 },
 "nbformat": 4,
 "nbformat_minor": 2
}
